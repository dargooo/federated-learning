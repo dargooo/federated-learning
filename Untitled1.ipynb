{
 "cells": [
  {
   "cell_type": "code",
   "execution_count": 1,
   "id": "precious-savannah",
   "metadata": {},
   "outputs": [],
   "source": [
    "%reload_ext autoreload\n",
    "%autoreload 2\n",
    "\n",
    "import torch\n",
    "import torchvision\n",
    "import torchvision.transforms as transforms\n",
    "\n",
    "from IPython.display import clear_output\n",
    "import os\n",
    "from copy import deepcopy\n",
    "\n",
    "import torch\n",
    "from torch.utils.data import DataLoader\n",
    "import pandas as pd\n",
    "import numpy as np\n",
    "import matplotlib.pyplot as plt\n",
    "\n",
    "from models import ConvNet, CF10Net\n",
    "from helper import ExperimentLogger, display_train_stats\n",
    "from fl_devices import Server, Client\n",
    "from data_utils import split_data, CustomSubset\n",
    "\n",
    "torch.manual_seed(42)\n",
    "np.random.seed(42)"
   ]
  },
  {
   "cell_type": "code",
   "execution_count": 2,
   "id": "ordered-aging",
   "metadata": {},
   "outputs": [],
   "source": [
    "transform = transforms.Compose(\n",
    "    [transforms.ToTensor(),\n",
    "     transforms.Normalize((0.5, 0.5, 0.5), (0.5, 0.5, 0.5))])\n",
    "\n",
    "trainset = torchvision.datasets.CIFAR10(root='~/data', train=True, download=False, transform=transform)\n",
    "\n",
    "trainloader = torch.utils.data.DataLoader(trainset, batch_size=128, shuffle=True, num_workers=0)\n",
    "\n",
    "testset = torchvision.datasets.CIFAR10(root='~/data', train=False, download=False, transform=transform)\n",
    "\n",
    "testloader = torch.utils.data.DataLoader(testset, batch_size=128, shuffle=False, num_workers=0)\n",
    "\n",
    "classes = ('plane', 'car', 'bird', 'cat', 'deer', 'dog', 'frog', 'horse', 'ship', 'truck')"
   ]
  },
  {
   "cell_type": "code",
   "execution_count": 10,
   "id": "cellular-somalia",
   "metadata": {},
   "outputs": [],
   "source": [
    "N_CLIENTS = 2\n",
    "DIRICHLET_ALPHA = 10.0\n",
    "\n",
    "train_idcs, test_idcs = np.random.permutation(len(trainset)), np.random.permutation(len(testset))\n",
    "client_idcs = np.arange(0, len(trainset)).reshape(N_CLIENTS, int(len(trainset) / N_CLIENTS))\n",
    "\n",
    "train_labels = []\n",
    "for idc in client_idcs:\n",
    "    for idcc in idc:\n",
    "        train_labels.append(trainset[idcc][1])\n",
    "        #print(trainset[idcc][1])\n",
    "train_labels = np.array(train_labels) \n",
    "client_idcs = split_data(train_idcs, train_labels, alpha=DIRICHLET_ALPHA, n_clients=N_CLIENTS)\n",
    "# print(client_idcs)\n",
    "\n",
    "client_data = [CustomSubset(trainset, idcs) for idcs in client_idcs]\n",
    "test_data = CustomSubset(testset, test_idcs, transforms.Compose([transforms.ToTensor()]))"
   ]
  },
  {
   "cell_type": "code",
   "execution_count": 11,
   "id": "worldwide-whole",
   "metadata": {},
   "outputs": [],
   "source": [
    "clients = [Client(CF10Net, lambda x : torch.optim.SGD(x, lr=0.001, momentum=0.9), dat, idnum=i, leader_id=0) \n",
    "           for i, dat in enumerate(client_data)]\n",
    "server = Server(CF10Net, test_data, testloader)"
   ]
  },
  {
   "cell_type": "code",
   "execution_count": 12,
   "id": "central-channel",
   "metadata": {},
   "outputs": [],
   "source": [
    "def display(rounds, accs, communication_rounds):\n",
    "\n",
    "    plt.figure(figsize=(8,4))\n",
    "\n",
    "    plt.plot(rounds, accs, color=\"C0\")\n",
    "\n",
    "    plt.xlabel(\"Communication Rounds\")\n",
    "    plt.ylabel(\"Accuracy\")\n",
    "\n",
    "    plt.xlim(1, communication_rounds)\n",
    "    plt.ylim(0,1)\n",
    "\n",
    "    plt.show()"
   ]
  },
  {
   "cell_type": "code",
   "execution_count": 13,
   "id": "billion-diameter",
   "metadata": {},
   "outputs": [
    {
     "name": "stdout",
     "output_type": "stream",
     "text": [
      "Round:  1\n",
      "      Client  0\n",
      "      Client  1\n",
      "Round:  2\n",
      "      Client  1\n",
      "      Client  0\n",
      "Round:  3\n",
      "      Client  1\n",
      "      Client  0\n",
      "Round:  4\n",
      "      Client  1\n",
      "      Client  0\n",
      "Round:  5\n",
      "      Client  1\n",
      "      Client  0\n"
     ]
    },
    {
     "data": {
      "image/png": "[encoded data removed]",
      "text/plain": [
       "<Figure size 864x288 with 1 Axes>"
      ]
     },
     "metadata": {
      "needs_background": "light"
     },
     "output_type": "display_data"
    }
   ],
   "source": [
    "rounds, accs = [], []\n",
    "COMMUNICATION_ROUNDS = 5\n",
    "for c_round in range(1, COMMUNICATION_ROUNDS+1):\n",
    "\n",
    "    print(\"Round: \", c_round)\n",
    "        \n",
    "    # if c_round == 1:\n",
    "    for client in clients:\n",
    "        client.synchronize_with_server(server)\n",
    "\n",
    "    participating_clients = server.select_clients(clients, frac=1.0)\n",
    "    \n",
    "    for client in participating_clients:\n",
    "        print(\"      Client \", client.id)\n",
    "        train_stats = client.compute_weight_update(epochs=1)\n",
    "        client.reset()\n",
    "        \n",
    "    server.aggregate_weight_updates(participating_clients)\n",
    "\n",
    "#     acc_server = [server.evaluate()]\n",
    "    rounds.append(c_round)\n",
    "    accs.append(server.evaluate())\n",
    "    \n",
    "   # cfl_stats.log({\"acc_server\" : acc_server, \"rounds\" : c_round})\n",
    "       \n",
    "display(rounds, accs, COMMUNICATION_ROUNDS)\n",
    "\n"
   ]
  },
  {
   "cell_type": "code",
   "execution_count": null,
   "id": "spare-moscow",
   "metadata": {},
   "outputs": [],
   "source": []
  }
 ],
 "metadata": {
  "kernelspec": {
   "display_name": "Python 3",
   "language": "python",
   "name": "python3"
  },
  "language_info": {
   "codemirror_mode": {
    "name": "ipython",
    "version": 3
   },
   "file_extension": ".py",
   "mimetype": "text/x-python",
   "name": "python",
   "nbconvert_exporter": "python",
   "pygments_lexer": "ipython3",
   "version": "3.7.10"
  }
 },
 "nbformat": 4,
 "nbformat_minor": 5
}
