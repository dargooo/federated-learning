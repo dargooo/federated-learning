{
 "cells": [
  {
   "cell_type": "code",
   "execution_count": 3,
   "id": "occupational-undergraduate",
   "metadata": {},
   "outputs": [],
   "source": [
    "import numpy as np\n",
    "import matplotlib.pyplot as plt\n",
    "%matplotlib inline"
   ]
  },
  {
   "cell_type": "code",
   "execution_count": 30,
   "id": "different-omaha",
   "metadata": {},
   "outputs": [
    {
     "name": "stdout",
     "output_type": "stream",
     "text": [
      "total 388\r\n",
      "-rw-r--r-- 1 wangxing wangxing  9391 May  2 20:51 exp__async_hier__20__4__0.0015__0.01__8__0.9__100.txt\r\n",
      "-rw-r--r-- 1 wangxing wangxing 97688 May  4 10:13 exp__async_no_hier__20__0.0012__0.01__8__0.9__1.txt\r\n",
      "-rw-r--r-- 1 wangxing wangxing 97801 May  4 11:12 exp__sync_no_hier__20__0.0006__0.01__8__1.0__1.txt\r\n",
      "-rw-r--r-- 1 wangxing wangxing 97582 May  5 14:29 exp__sync_hier__20__4__3e-05__0.01__8__1.0__55.txt\r\n",
      "-rw-r--r-- 1 wangxing wangxing 44490 May  6 17:27 exp__async_hier__20__4__0.0012__0.01__8__0.9__100.txt\r\n",
      "-rw-r--r-- 1 wangxing wangxing 44772 May  6 17:27 exp__async_hier__20__4__0.001__0.01__8__0.9__100.txt\r\n"
     ]
    }
   ],
   "source": [
    "!ls -lrt 20"
   ]
  },
  {
   "cell_type": "code",
   "execution_count": 5,
   "id": "differential-folder",
   "metadata": {},
   "outputs": [
    {
     "name": "stdout",
     "output_type": "stream",
     "text": [
      "5000\n"
     ]
    }
   ],
   "source": [
    "accs, times = [], []\n",
    "with open('20/exp__sync_no_hier__20__0.0006__0.01__8__1.0__1.txt', 'r') as f:\n",
    "    line = f.readline()\n",
    "    while line:\n",
    "        ll = line.strip().split(',')\n",
    "        if len(ll) == 3:\n",
    "            accs.append(float(ll[1]))\n",
    "            times.append(int(ll[0]))\n",
    "        line = f.readline()\n",
    "print(len(accs))"
   ]
  },
  {
   "cell_type": "code",
   "execution_count": 6,
   "id": "received-designer",
   "metadata": {
    "scrolled": true
   },
   "outputs": [
    {
     "name": "stdout",
     "output_type": "stream",
     "text": [
      "5000\n"
     ]
    }
   ],
   "source": [
    "accs2, times2 = [], []\n",
    "with open('20/exp__async_no_hier__20__0.0012__0.01__8__0.9__1.txt', 'r') as f:\n",
    "    line = f.readline()\n",
    "    while line:\n",
    "        ll = line.strip().split(',')\n",
    "        if len(ll) == 3:\n",
    "            accs2.append(float(ll[1]))\n",
    "            times2.append(int(ll[0]))\n",
    "        line = f.readline()\n",
    "print(len(accs2))"
   ]
  },
  {
   "cell_type": "code",
   "execution_count": 7,
   "id": "fourth-subcommittee",
   "metadata": {
    "scrolled": true
   },
   "outputs": [
    {
     "name": "stdout",
     "output_type": "stream",
     "text": [
      "5000\n"
     ]
    }
   ],
   "source": [
    "accs3, times3 = [], []\n",
    "with open('20/exp__sync_hier__20__4__3e-05__0.01__8__1.0__55.txt', 'r') as f:\n",
    "    line = f.readline()\n",
    "    while line:\n",
    "        ll = line.strip().split(',')\n",
    "        if len(ll) == 3:\n",
    "            accs3.append(float(ll[1]))\n",
    "            times3.append(int(ll[0]))\n",
    "        line = f.readline()\n",
    "print(len(accs3))"
   ]
  },
  {
   "cell_type": "code",
   "execution_count": 8,
   "id": "overall-justice",
   "metadata": {},
   "outputs": [
    {
     "name": "stdout",
     "output_type": "stream",
     "text": [
      "620\n"
     ]
    }
   ],
   "source": [
    "accs4, times4 = [], []\n",
    "with open('/home/wangxing/fd/sequential/exp__async_hier__20__4__0.0007__0.01__8__0.9__100.txt', 'r') as f:\n",
    "    line = f.readline()\n",
    "    while line:\n",
    "        ll = line.strip().split(',')\n",
    "        if len(ll) == 3:\n",
    "            accs4.append(float(ll[1]))\n",
    "            times4.append(int(ll[0]))\n",
    "        line = f.readline()\n",
    "print(len(accs4))"
   ]
  },
  {
   "cell_type": "code",
   "execution_count": 9,
   "id": "foreign-canon",
   "metadata": {
    "scrolled": false
   },
   "outputs": [
    {
     "data": {
      "image/png": "[encoded data removed]",
      "text/plain": [
       "<Figure size 432x288 with 1 Axes>"
      ]
     },
     "metadata": {
      "needs_background": "light"
     },
     "output_type": "display_data"
    }
   ],
   "source": [
    "plt.plot(np.array(times), np.array(accs), label=\"FedAvg\")\n",
    "plt.plot(np.array(times2), np.array(accs2), label=\"HierFedAvg\")\n",
    "plt.plot(np.array(times3), np.array(accs3), label=\"FedAsync\")\n",
    "plt.plot(np.array(times4), np.array(accs4), label=\"HierFedAsync\")\n",
    "plt.ylim(0, 0.7)\n",
    "plt.xlabel(\"Elapsed Time (sec)\")\n",
    "plt.ylabel(\"Accuracy\")\n",
    "plt.legend()\n",
    "plt.show()"
   ]
  },
  {
   "cell_type": "code",
   "execution_count": null,
   "id": "reliable-attempt",
   "metadata": {},
   "outputs": [],
   "source": []
  },
  {
   "cell_type": "code",
   "execution_count": null,
   "id": "16cfaef0",
   "metadata": {},
   "outputs": [],
   "source": []
  },
  {
   "cell_type": "code",
   "execution_count": null,
   "id": "fbeba1b4",
   "metadata": {},
   "outputs": [],
   "source": []
  },
  {
   "cell_type": "code",
   "execution_count": null,
   "id": "b51ac72d",
   "metadata": {},
   "outputs": [],
   "source": []
  },
  {
   "cell_type": "code",
   "execution_count": null,
   "id": "2c0df295",
   "metadata": {},
   "outputs": [],
   "source": []
  },
  {
   "cell_type": "code",
   "execution_count": null,
   "id": "2f520cca",
   "metadata": {},
   "outputs": [],
   "source": []
  }
 ],
 "metadata": {
  "kernelspec": {
   "display_name": "Python 3",
   "language": "python",
   "name": "python3"
  },
  "language_info": {
   "codemirror_mode": {
    "name": "ipython",
    "version": 3
   },
   "file_extension": ".py",
   "mimetype": "text/x-python",
   "name": "python",
   "nbconvert_exporter": "python",
   "pygments_lexer": "ipython3",
   "version": "3.8.8"
  }
 },
 "nbformat": 4,
 "nbformat_minor": 5
}
