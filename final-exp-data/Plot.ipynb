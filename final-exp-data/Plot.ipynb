{
 "cells": [
  {
   "cell_type": "code",
   "execution_count": 8,
   "id": "occupational-undergraduate",
   "metadata": {},
   "outputs": [],
   "source": [
    "import numpy as np\n",
    "import matplotlib.pyplot as plt\n",
    "%matplotlib inline"
   ]
  },
  {
   "cell_type": "code",
   "execution_count": 2,
   "id": "different-omaha",
   "metadata": {},
   "outputs": [
    {
     "name": "stdout",
     "output_type": "stream",
     "text": [
      "-rw-r--r-- 1 wangxing wangxing 44772 May  6 17:27 20/exp__async_hier__20__4__0.001__0.01__8__0.9__100.txt\r\n",
      "-rw-r--r-- 1 wangxing wangxing 97722 May  7 20:56 20/exp__async_hier__20__4__0.0007__0.01__8__0.9__100.txt\r\n"
     ]
    }
   ],
   "source": [
    "!ls -lrt 20/exp__async_hier*"
   ]
  },
  {
   "cell_type": "code",
   "execution_count": 6,
   "id": "differential-folder",
   "metadata": {},
   "outputs": [
    {
     "name": "stdout",
     "output_type": "stream",
     "text": [
      "3576\n"
     ]
    }
   ],
   "source": [
    "accs, times = [], []\n",
    "with open('/home/wangxing/fd/sequential/exp__async_hier__10__2__0.0005__0.01__8__0.9__100.txt', 'r') as f:\n",
    "    line = f.readline()\n",
    "    while line:\n",
    "        ll = line.strip().split(',')\n",
    "        if len(ll) == 3:\n",
    "            accs.append(float(ll[1]))\n",
    "            times.append(int(ll[0]))\n",
    "        line = f.readline()\n",
    "print(len(accs))"
   ]
  },
  {
   "cell_type": "code",
   "execution_count": 4,
   "id": "received-designer",
   "metadata": {
    "scrolled": true
   },
   "outputs": [
    {
     "name": "stdout",
     "output_type": "stream",
     "text": [
      "5000\n"
     ]
    }
   ],
   "source": [
    "accs2, times2 = [], []\n",
    "with open('20/exp__async_hier__20__4__0.0007__0.01__8__0.9__100.txt', 'r') as f:\n",
    "    line = f.readline()\n",
    "    while line:\n",
    "        ll = line.strip().split(',')\n",
    "        if len(ll) == 3:\n",
    "            accs2.append(float(ll[1]))\n",
    "            times2.append(int(ll[0]))\n",
    "        line = f.readline()\n",
    "print(len(accs2))"
   ]
  },
  {
   "cell_type": "code",
   "execution_count": 5,
   "id": "fourth-subcommittee",
   "metadata": {
    "scrolled": true
   },
   "outputs": [
    {
     "name": "stdout",
     "output_type": "stream",
     "text": [
      "5000\n"
     ]
    }
   ],
   "source": [
    "accs3, times3 = [], []\n",
    "with open('50/exp__async_hier__50__5__0.0005__0.01__8__0.9__100.txt', 'r') as f:\n",
    "    line = f.readline()\n",
    "    while line:\n",
    "        ll = line.strip().split(',')\n",
    "        if len(ll) == 3:\n",
    "            accs3.append(float(ll[1]))\n",
    "            times3.append(int(ll[0]))\n",
    "        line = f.readline()\n",
    "print(len(accs3))"
   ]
  },
  {
   "cell_type": "code",
   "execution_count": 13,
   "id": "overall-justice",
   "metadata": {},
   "outputs": [
    {
     "name": "stdout",
     "output_type": "stream",
     "text": [
      "5000\n"
     ]
    }
   ],
   "source": [
    "accs4, times4 = [], []\n",
    "with open('exp__sync_no_hier__50__0.0005__0.01__8__1.0__1.txt', 'r') as f:\n",
    "    line = f.readline()\n",
    "    while line:\n",
    "        ll = line.strip().split(',')\n",
    "        if len(ll) == 3:\n",
    "            accs4.append(float(ll[1]))\n",
    "            times4.append(int(ll[0]))\n",
    "        line = f.readline()\n",
    "print(len(accs4))"
   ]
  },
  {
   "cell_type": "code",
   "execution_count": 7,
   "id": "65232848",
   "metadata": {},
   "outputs": [
    {
     "name": "stdout",
     "output_type": "stream",
     "text": [
      "3378\n"
     ]
    }
   ],
   "source": [
    "accs5, times5 = [], []\n",
    "with open('/home/wangxing/fd/sequential/exp__sync_no_hier__10__0.0003__0.01__8__1.0__1.txt', 'r') as f:\n",
    "    line = f.readline()\n",
    "    while line:\n",
    "        ll = line.strip().split(',')\n",
    "        if len(ll) == 3:\n",
    "            accs5.append(float(ll[1]))\n",
    "            times5.append(int(ll[0]))\n",
    "        line = f.readline()\n",
    "print(len(accs5))"
   ]
  },
  {
   "cell_type": "code",
   "execution_count": 10,
   "id": "foreign-canon",
   "metadata": {
    "scrolled": false
   },
   "outputs": [
    {
     "data": {
      "image/png": "[encoded data removed]",
      "text/plain": [
       "<Figure size 720x432 with 1 Axes>"
      ]
     },
     "metadata": {
      "needs_background": "light"
     },
     "output_type": "display_data"
    }
   ],
   "source": [
    "plt.figure(figsize=(10,6))\n",
    "\n",
    "plt.plot(np.array(times), np.array(accs), label=\"AsyncHier-10\")\n",
    "plt.plot(np.array(times2), np.array(accs2), label=\"AsyncHier-20\")\n",
    "plt.plot(np.array(times3), np.array(accs3), label=\"AsyncHier-50\")\n",
    "#plt.plot(np.array(times4), np.array(accs4), label=\"SyncNoHier\")\n",
    "#plt.plot(np.array(times5), np.array(accs5), label=\"SyncNoHier\")\n",
    "\n",
    "plt.ylim(0, 0.7)\n",
    "#plt.xlim(0, 3000)\n",
    "\n",
    "plt.xlabel(\"Elapsed Time (sec)\")\n",
    "plt.ylabel(\"Accuracy\")\n",
    "plt.legend()\n",
    "plt.show()"
   ]
  },
  {
   "cell_type": "code",
   "execution_count": null,
   "id": "reliable-attempt",
   "metadata": {},
   "outputs": [],
   "source": []
  },
  {
   "cell_type": "code",
   "execution_count": null,
   "id": "16cfaef0",
   "metadata": {},
   "outputs": [],
   "source": []
  },
  {
   "cell_type": "code",
   "execution_count": null,
   "id": "fbeba1b4",
   "metadata": {},
   "outputs": [],
   "source": []
  },
  {
   "cell_type": "code",
   "execution_count": null,
   "id": "b51ac72d",
   "metadata": {},
   "outputs": [],
   "source": []
  },
  {
   "cell_type": "code",
   "execution_count": null,
   "id": "2c0df295",
   "metadata": {},
   "outputs": [],
   "source": []
  },
  {
   "cell_type": "code",
   "execution_count": null,
   "id": "2f520cca",
   "metadata": {},
   "outputs": [],
   "source": []
  }
 ],
 "metadata": {
  "kernelspec": {
   "display_name": "Python 3",
   "language": "python",
   "name": "python3"
  },
  "language_info": {
   "codemirror_mode": {
    "name": "ipython",
    "version": 3
   },
   "file_extension": ".py",
   "mimetype": "text/x-python",
   "name": "python",
   "nbconvert_exporter": "python",
   "pygments_lexer": "ipython3",
   "version": "3.8.8"
  }
 },
 "nbformat": 4,
 "nbformat_minor": 5
}
