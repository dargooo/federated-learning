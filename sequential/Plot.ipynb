{
 "cells": [
  {
   "cell_type": "code",
   "execution_count": 1,
   "id": "occupational-undergraduate",
   "metadata": {},
   "outputs": [],
   "source": [
    "import numpy as np\n",
    "import matplotlib.pyplot as plt\n",
    "%matplotlib inline"
   ]
  },
  {
   "cell_type": "code",
   "execution_count": 2,
   "id": "different-omaha",
   "metadata": {},
   "outputs": [
    {
     "name": "stdout",
     "output_type": "stream",
     "text": [
      "async-hier.py\r\n",
      "async-no-hier.py\r\n",
      "client.py\r\n",
      "devices.py\r\n",
      "exp__async_hier__20__4__0.001__0.01__8__0.9__100.txt\r\n",
      "exp__async_hier__20__4__0.002__0.01__8__0.9__100.txt\r\n",
      "exp__async_hier__20__4__0.002__0.01__8__0.9__10.txt\r\n",
      "exp__async_hier__20__4__0.002__0.01__8__0.9__22.txt\r\n",
      "exp__async_hier__20__4__0.002__0.01__8__0.9__233.txt\r\n",
      "exp__async_hier__20__4__0.002__0.01__8__0.9__55.txt\r\n",
      "exp__async_hier__20__4__0.002__0.01__8__0.9__88.txt\r\n",
      "exp__async_hier__50__10__0.001__0.01__8__0.9__1.txt\r\n",
      "exp__async_hier__50__10__0.001__0.01__8__0.9__22.txt\r\n",
      "exp__async_hier__50__10__0.001__0.01__8__0.9__5.txt\r\n",
      "exp__async_hier__50__10__0.001__0.01__8__0.9__8.txt\r\n",
      "exp__async_hier__50__5__0.001__0.01__8__0.9__1.txt\r\n",
      "exp__async_hier__50__5__0.001__0.01__8__0.9__5.txt\r\n",
      "exp__async_hier__50__5__0.001__0.01__8__0.9__8.txt\r\n",
      "exp__async_no_hier__20__0.001__0.01__8__0.9__1.txt\r\n",
      "leader.py\r\n",
      "Plot.ipynb\r\n",
      "__pycache__\r\n",
      "run-1.sh\r\n",
      "run-2.sh\r\n",
      "run.sh\r\n",
      "seed\r\n",
      "server.py\r\n",
      "sync-hier.py\r\n",
      "sync-no-hier.py\r\n"
     ]
    }
   ],
   "source": [
    "!ls"
   ]
  },
  {
   "cell_type": "code",
   "execution_count": 41,
   "id": "differential-folder",
   "metadata": {},
   "outputs": [
    {
     "name": "stdout",
     "output_type": "stream",
     "text": [
      "700\n"
     ]
    }
   ],
   "source": [
    "accs, times = [], []\n",
    "with open('exp__async_hier__20__4__0.001__0.01__8__0.9__100.txt', 'r') as f:\n",
    "    line = f.readline()\n",
    "    while line:\n",
    "        ll = line.strip().split(',')\n",
    "        if len(ll) == 3:\n",
    "            accs.append(float(ll[1]))\n",
    "            times.append(int(ll[2]))\n",
    "        line = f.readline()\n",
    "print(len(accs))"
   ]
  },
  {
   "cell_type": "code",
   "execution_count": 32,
   "id": "received-designer",
   "metadata": {
    "scrolled": true
   },
   "outputs": [
    {
     "name": "stdout",
     "output_type": "stream",
     "text": [
      "300\n"
     ]
    }
   ],
   "source": [
    "accs2, times2 = [], []\n",
    "with open('exp__async_hier__20__4__0.002__0.01__8__0.9__100.txt', 'r') as f:\n",
    "    line = f.readline()\n",
    "    while line:\n",
    "        ll = line.strip().split(',')\n",
    "        if len(ll) == 3:\n",
    "            accs2.append(float(ll[1]))\n",
    "            times2.append(int(ll[2]))\n",
    "        line = f.readline()\n",
    "print(len(accs2))"
   ]
  },
  {
   "cell_type": "code",
   "execution_count": 38,
   "id": "fourth-subcommittee",
   "metadata": {},
   "outputs": [
    {
     "name": "stdout",
     "output_type": "stream",
     "text": [
      "536\n"
     ]
    }
   ],
   "source": [
    "accs3, times3 = [], []\n",
    "with open('exp__async_hier__20__4__0.0015__0.01__8__0.9__100.txt', 'r') as f:\n",
    "    line = f.readline()\n",
    "    while line:\n",
    "        ll = line.strip().split(',')\n",
    "        if len(ll) == 3:\n",
    "            accs3.append(float(ll[1]))\n",
    "            times3.append(int(ll[2]))\n",
    "        line = f.readline()\n",
    "print(len(accs3))"
   ]
  },
  {
   "cell_type": "code",
   "execution_count": 29,
   "id": "overall-justice",
   "metadata": {},
   "outputs": [
    {
     "name": "stdout",
     "output_type": "stream",
     "text": [
      "70\n"
     ]
    }
   ],
   "source": [
    "accs4, times4 = [], []\n",
    "with open('exp__async_hier__20__4__0.002__0.01__8__0.9__88.txt', 'r') as f:\n",
    "    line = f.readline()\n",
    "    while line:\n",
    "        ll = line.strip().split(',')\n",
    "        if len(ll) == 3:\n",
    "            accs4.append(float(ll[1]))\n",
    "            times4.append(int(ll[2]))\n",
    "        line = f.readline()\n",
    "print(len(accs4))"
   ]
  },
  {
   "cell_type": "code",
   "execution_count": 42,
   "id": "foreign-canon",
   "metadata": {},
   "outputs": [
    {
     "data": {
      "image/png": "[encoded data removed]",
      "text/plain": [
       "<Figure size 432x288 with 1 Axes>"
      ]
     },
     "metadata": {
      "needs_background": "light"
     },
     "output_type": "display_data"
    }
   ],
   "source": [
    "plt.plot(np.array(times), np.array(accs), label=\"FedAvg\")\n",
    "plt.plot(np.array(times2), np.array(accs2), label=\"HierFedAvg\")\n",
    "plt.plot(np.array(times3), np.array(accs3), label=\"FedAsync\")\n",
    "# plt.plot(np.array(times4), np.array(accs4), label=\"HierFedAsync\")\n",
    "plt.xlim(0, 8000)\n",
    "plt.xlabel(\"Elapsed Time (sec)\")\n",
    "plt.ylabel(\"Accuracy\")\n",
    "plt.legend()\n",
    "plt.show()"
   ]
  },
  {
   "cell_type": "code",
   "execution_count": null,
   "id": "reliable-attempt",
   "metadata": {},
   "outputs": [],
   "source": []
  }
 ],
 "metadata": {
  "kernelspec": {
   "display_name": "Python 3",
   "language": "python",
   "name": "python3"
  },
  "language_info": {
   "codemirror_mode": {
    "name": "ipython",
    "version": 3
   },
   "file_extension": ".py",
   "mimetype": "text/x-python",
   "name": "python",
   "nbconvert_exporter": "python",
   "pygments_lexer": "ipython3",
   "version": "3.8.8"
  }
 },
 "nbformat": 4,
 "nbformat_minor": 5
}
