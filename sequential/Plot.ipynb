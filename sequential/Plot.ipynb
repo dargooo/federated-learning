{
 "cells": [
  {
   "cell_type": "code",
   "execution_count": 1,
   "id": "occupational-undergraduate",
   "metadata": {},
   "outputs": [],
   "source": [
    "import numpy as np\n",
    "import matplotlib.pyplot as plt\n",
    "%matplotlib inline"
   ]
  },
  {
   "cell_type": "code",
   "execution_count": 2,
   "id": "different-omaha",
   "metadata": {},
   "outputs": [
    {
     "name": "stdout",
     "output_type": "stream",
     "text": [
      "async-hier.py\t\t\t\t\t      Plot.ipynb\r\n",
      "async-no-hier.py\t\t\t\t      __pycache__\r\n",
      "client.py\t\t\t\t\t      run.sh\r\n",
      "devices.py\t\t\t\t\t      seed\r\n",
      "exp__async_hier__20__4__0.001__0.01__8__0.9__100.txt  server.py\r\n",
      "leader.py\t\t\t\t\t      sync-hier.py\r\n",
      "nohup.out\t\t\t\t\t      sync-no-hier.py\r\n"
     ]
    }
   ],
   "source": [
    "!ls"
   ]
  },
  {
   "cell_type": "code",
   "execution_count": 3,
   "id": "differential-folder",
   "metadata": {},
   "outputs": [
    {
     "name": "stdout",
     "output_type": "stream",
     "text": [
      "1779\n"
     ]
    }
   ],
   "source": [
    "accs, times = [], []\n",
    "with open('exp__async_hier__20__4__0.001__0.01__8__0.9__100.txt', 'r') as f:\n",
    "    line = f.readline()\n",
    "    while line:\n",
    "        ll = line.strip().split(',')\n",
    "        if len(ll) == 3:\n",
    "            accs.append(float(ll[1]))\n",
    "            times.append(int(ll[0]))\n",
    "        line = f.readline()\n",
    "print(len(accs))"
   ]
  },
  {
   "cell_type": "code",
   "execution_count": 4,
   "id": "received-designer",
   "metadata": {},
   "outputs": [
    {
     "ename": "FileNotFoundError",
     "evalue": "[Errno 2] No such file or directory: 'sync-20-leader.txt'",
     "output_type": "error",
     "traceback": [
      "\u001b[0;31m---------------------------------------------------------------------------\u001b[0m",
      "\u001b[0;31mFileNotFoundError\u001b[0m                         Traceback (most recent call last)",
      "\u001b[0;32m<ipython-input-4-23d612168e5a>\u001b[0m in \u001b[0;36m<module>\u001b[0;34m\u001b[0m\n\u001b[1;32m      1\u001b[0m \u001b[0maccs2\u001b[0m\u001b[0;34m,\u001b[0m \u001b[0mtimes2\u001b[0m \u001b[0;34m=\u001b[0m \u001b[0;34m[\u001b[0m\u001b[0;34m]\u001b[0m\u001b[0;34m,\u001b[0m \u001b[0;34m[\u001b[0m\u001b[0;34m]\u001b[0m\u001b[0;34m\u001b[0m\u001b[0;34m\u001b[0m\u001b[0m\n\u001b[0;32m----> 2\u001b[0;31m \u001b[0;32mwith\u001b[0m \u001b[0mopen\u001b[0m\u001b[0;34m(\u001b[0m\u001b[0;34m'sync-20-leader.txt'\u001b[0m\u001b[0;34m,\u001b[0m \u001b[0;34m'r'\u001b[0m\u001b[0;34m)\u001b[0m \u001b[0;32mas\u001b[0m \u001b[0mf\u001b[0m\u001b[0;34m:\u001b[0m\u001b[0;34m\u001b[0m\u001b[0;34m\u001b[0m\u001b[0m\n\u001b[0m\u001b[1;32m      3\u001b[0m     \u001b[0mline\u001b[0m \u001b[0;34m=\u001b[0m \u001b[0mf\u001b[0m\u001b[0;34m.\u001b[0m\u001b[0mreadline\u001b[0m\u001b[0;34m(\u001b[0m\u001b[0;34m)\u001b[0m\u001b[0;34m\u001b[0m\u001b[0;34m\u001b[0m\u001b[0m\n\u001b[1;32m      4\u001b[0m     \u001b[0;32mwhile\u001b[0m \u001b[0mline\u001b[0m\u001b[0;34m:\u001b[0m\u001b[0;34m\u001b[0m\u001b[0;34m\u001b[0m\u001b[0m\n\u001b[1;32m      5\u001b[0m         \u001b[0mll\u001b[0m \u001b[0;34m=\u001b[0m \u001b[0mline\u001b[0m\u001b[0;34m.\u001b[0m\u001b[0mstrip\u001b[0m\u001b[0;34m(\u001b[0m\u001b[0;34m)\u001b[0m\u001b[0;34m.\u001b[0m\u001b[0msplit\u001b[0m\u001b[0;34m(\u001b[0m\u001b[0;34m','\u001b[0m\u001b[0;34m)\u001b[0m\u001b[0;34m\u001b[0m\u001b[0;34m\u001b[0m\u001b[0m\n",
      "\u001b[0;31mFileNotFoundError\u001b[0m: [Errno 2] No such file or directory: 'sync-20-leader.txt'"
     ]
    }
   ],
   "source": [
    "accs2, times2 = [], []\n",
    "with open('sync-20-leader.txt', 'r') as f:\n",
    "    line = f.readline()\n",
    "    while line:\n",
    "        ll = line.strip().split(',')\n",
    "        if len(ll) == 3:\n",
    "            accs2.append(float(ll[1]))\n",
    "            times2.append(int(ll[2])*2.2)\n",
    "        line = f.readline()\n",
    "print(len(accs2))"
   ]
  },
  {
   "cell_type": "code",
   "execution_count": 42,
   "id": "fourth-subcommittee",
   "metadata": {},
   "outputs": [
    {
     "name": "stdout",
     "output_type": "stream",
     "text": [
      "353\n"
     ]
    }
   ],
   "source": [
    "accs3, times3 = [], []\n",
    "with open('async-20-baseline.txt', 'r') as f:\n",
    "    line = f.readline()\n",
    "    while line:\n",
    "        ll = line.strip().split(',')\n",
    "        if len(ll) == 3:\n",
    "            accs3.append(float(ll[1]))\n",
    "            times3.append(int(ll[2]))\n",
    "        line = f.readline()\n",
    "print(len(accs3))"
   ]
  },
  {
   "cell_type": "code",
   "execution_count": 43,
   "id": "overall-justice",
   "metadata": {},
   "outputs": [
    {
     "name": "stdout",
     "output_type": "stream",
     "text": [
      "373\n"
     ]
    }
   ],
   "source": [
    "accs4, times4 = [], []\n",
    "with open('async-20-leader.txt', 'r') as f:\n",
    "    line = f.readline()\n",
    "    while line:\n",
    "        ll = line.strip().split(',')\n",
    "        if len(ll) == 3:\n",
    "            accs4.append(float(ll[1]))\n",
    "            times4.append(int(ll[2]))\n",
    "        line = f.readline()\n",
    "print(len(accs4))"
   ]
  },
  {
   "cell_type": "code",
   "execution_count": 5,
   "id": "foreign-canon",
   "metadata": {},
   "outputs": [
    {
     "data": {
      "image/png": "[encoded data removed]",
      "text/plain": [
       "<Figure size 432x288 with 1 Axes>"
      ]
     },
     "metadata": {
      "needs_background": "light"
     },
     "output_type": "display_data"
    }
   ],
   "source": [
    "plt.plot(np.array(times), np.array(accs), label=\"FedAvg\")\n",
    "\n",
    "plt.xlabel(\"Elapsed Time (sec)\")\n",
    "plt.ylabel(\"Accuracy\")\n",
    "plt.legend()\n",
    "plt.show()"
   ]
  },
  {
   "cell_type": "code",
   "execution_count": null,
   "id": "reliable-attempt",
   "metadata": {},
   "outputs": [],
   "source": []
  }
 ],
 "metadata": {
  "kernelspec": {
   "display_name": "Python 3",
   "language": "python",
   "name": "python3"
  },
  "language_info": {
   "codemirror_mode": {
    "name": "ipython",
    "version": 3
   },
   "file_extension": ".py",
   "mimetype": "text/x-python",
   "name": "python",
   "nbconvert_exporter": "python",
   "pygments_lexer": "ipython3",
   "version": "3.8.8"
  }
 },
 "nbformat": 4,
 "nbformat_minor": 5
}
